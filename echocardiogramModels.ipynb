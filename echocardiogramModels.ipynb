{
  "nbformat": 4,
  "nbformat_minor": 0,
  "metadata": {
    "colab": {
      "name": "echocardiogramModels.ipynb",
      "provenance": [],
      "collapsed_sections": []
    },
    "kernelspec": {
      "name": "python3",
      "display_name": "Python 3"
    }
  },
  "cells": [
    {
      "cell_type": "code",
      "metadata": {
        "id": "pxTgcAVc2dVo"
      },
      "source": [
        "from __future__ import absolute_import, division, print_function, unicode_literals\n",
        "\n",
        "# Install TensorFlow\n",
        "try:\n",
        "  # %tensorflow_version only works in Colab.\n",
        "  %tensorflow_version 2.x\n",
        "except Exception:\n",
        "  pass\n",
        "\n",
        "import tensorflow as tf\n"
      ],
      "execution_count": 1,
      "outputs": []
    },
    {
      "cell_type": "code",
      "metadata": {
        "id": "PC5nMGcOtv2K"
      },
      "source": [
        "# Mount Goggle drive to colab\n",
        "from google.colab import drive\n",
        "drive.mount('/content/drive')"
      ],
      "execution_count": null,
      "outputs": []
    },
    {
      "cell_type": "code",
      "metadata": {
        "id": "mAhDuiSuteBn"
      },
      "source": [
        "# Imports\n",
        "import numpy as np\n",
        "import pandas as pd\n",
        "from tensorflow.keras.models import Sequential\n",
        "from tensorflow.keras.layers import Dense, Activation\n",
        "from sklearn.metrics import confusion_matrix\n",
        "from tensorflow.keras import regularizers\n",
        "\n",
        "from matplotlib import pyplot"
      ],
      "execution_count": null,
      "outputs": []
    },
    {
      "cell_type": "code",
      "metadata": {
        "id": "UXXGryBL22xl"
      },
      "source": [
        "#load clean and normalized dataset\n",
        "dataset = pd.read_csv(r'/content/drive/My Drive/echocardiogramKnnNorm.csv', index_col=0) "
      ],
      "execution_count": null,
      "outputs": []
    },
    {
      "cell_type": "code",
      "metadata": {
        "id": "NuoNeYEn3SXq"
      },
      "source": [
        "#Split dataset into train and test\n",
        "train_knn=dataset.sample(frac=0.7,random_state=200) #random state is a seed value\n",
        "test_knn=dataset.drop(train_knn.index)"
      ],
      "execution_count": null,
      "outputs": []
    },
    {
      "cell_type": "code",
      "metadata": {
        "id": "soVJ1KuE5F2Z"
      },
      "source": [
        "#shape of data\n",
        "print(train_knn.shape)\n",
        "print(test_knn.shape)"
      ],
      "execution_count": null,
      "outputs": []
    },
    {
      "cell_type": "code",
      "metadata": {
        "id": "mDNtBr1Z_dA_"
      },
      "source": [
        "#(Number of rows, Number of columns)\n",
        "train_labels = train_knn.alive\n",
        "train_data = train_knn.drop('alive',axis=1)\n",
        "test_labels = test_knn.alive\n",
        "test_data = test_knn.drop('alive',axis=1)\n",
        "\n",
        "print(train_labels.shape)\n",
        "print(test_labels.shape)\n",
        "print(train_data.shape)\n",
        "print(test_data.shape)"
      ],
      "execution_count": null,
      "outputs": []
    },
    {
      "cell_type": "code",
      "metadata": {
        "id": "aXXzXJDyjJxd"
      },
      "source": [
        "# Load the TensorBoard notebook extension for visualization\n",
        "%load_ext tensorboard\n",
        "\n",
        "import datetime, os"
      ],
      "execution_count": null,
      "outputs": []
    },
    {
      "cell_type": "code",
      "metadata": {
        "id": "p34tw7MZj-2P"
      },
      "source": [
        "# Imports for early stopping\n",
        "from tensorflow.keras.callbacks import ModelCheckpoint\n",
        "from tensorflow.keras.callbacks import TensorBoard\n",
        "from tensorflow.keras.callbacks import EarlyStopping"
      ],
      "execution_count": null,
      "outputs": []
    },
    {
      "cell_type": "code",
      "metadata": {
        "id": "YwnNKjMYkI1j"
      },
      "source": [
        "#Callbacks for early stopping and tensorboard\n",
        "# checkpoint, save the best model\n",
        "dataset_path = \"/content/drive/My Drive/SP1 Proyect/\"\n",
        "filepath = dataset_path + \"output.best.h5\"\n",
        "checkpoint_callback = ModelCheckpoint(filepath, monitor='val_loss', verbose=1, save_best_only=True, mode='min',save_freq='epoch')\n",
        "\n",
        "# tensorboard\n",
        "logdir = os.path.join(\"logs\", datetime.datetime.now().strftime(\"%Y%m%d-%H%M%S\"))\n",
        "tensorboard_callback = TensorBoard(logdir, histogram_freq=1,profile_batch=0)\n",
        "\n",
        "#early stopping\n",
        "stop_callback = EarlyStopping(monitor='val_loss', mode='min', verbose=1, patience=112)\n",
        "\n",
        "# callbacks\n",
        "callbacks_list = [checkpoint_callback,tensorboard_callback, stop_callback]"
      ],
      "execution_count": null,
      "outputs": []
    },
    {
      "cell_type": "code",
      "metadata": {
        "id": "pz4pBrX-nmAm"
      },
      "source": [
        "# Run Tensorboad for monitoring\n",
        "%tensorboard --logdir logs"
      ],
      "execution_count": null,
      "outputs": []
    },
    {
      "cell_type": "code",
      "metadata": {
        "id": "se6vApsGoI_i"
      },
      "source": [
        "#build model, include L1 regularization in the model \n",
        "model = Sequential()\n",
        "\n",
        "model.add(Dense(8, input_shape=(9,), activation='relu', activity_regularizer=regularizers.l1(1e-4)))\n",
        "model.add(Dense(6, activation='relu', activity_regularizer=regularizers.l1(1e-4)))\n",
        "model.add(Dense(4, activation='relu', activity_regularizer=regularizers.l1(1e-4)))\n",
        "model.add(Dense(2, activation='relu', activity_regularizer=regularizers.l1(1e-4)))\n",
        "model.add(Dense(1, activation='sigmoid')) # Sigmoid for binary clasification\n",
        "model.compile(loss='binary_crossentropy', optimizer='adam', metrics=['accuracy'])\n"
      ],
      "execution_count": null,
      "outputs": []
    },
    {
      "cell_type": "code",
      "metadata": {
        "id": "O0RWZW3KK97f"
      },
      "source": [
        "model.summary()"
      ],
      "execution_count": null,
      "outputs": []
    },
    {
      "cell_type": "code",
      "metadata": {
        "id": "dkOu1j9gGACy"
      },
      "source": [
        "# Train Model\n",
        "history = model.fit(train_data, \n",
        "          train_labels, \n",
        "          validation_split=0.2,\n",
        "          epochs=4000,\n",
        "          callbacks=callbacks_list)"
      ],
      "execution_count": null,
      "outputs": []
    },
    {
      "cell_type": "code",
      "metadata": {
        "id": "wQ9X1MhcNn9-"
      },
      "source": [
        "#plot training history\n",
        "pyplot.plot(history.history['loss'], label='train')\n",
        "pyplot.plot(history.history['val_loss'], label='test')\n",
        "pyplot.legend()\n",
        "pyplot.show()"
      ],
      "execution_count": null,
      "outputs": []
    },
    {
      "cell_type": "code",
      "metadata": {
        "id": "IeQ8Vji2N0OB",
        "outputId": "921a4eca-1f6d-486c-a9e0-fff609c51633",
        "colab": {
          "base_uri": "https://localhost:8080/",
          "height": 34
        }
      },
      "source": [
        "# evaluate the model, Final accuracy Train:88%m Test: 90%\n",
        "_, train_acc = model.evaluate(train_data, train_labels, verbose=0)\n",
        "_, test_acc = model.evaluate(test_data, test_labels, verbose=0)\n",
        "print('Train: %.3f, Test: %.3f' % (train_acc, test_acc))"
      ],
      "execution_count": null,
      "outputs": [
        {
          "output_type": "stream",
          "text": [
            "Train: 0.882, Test: 0.900\n"
          ],
          "name": "stdout"
        }
      ]
    }
  ]
}